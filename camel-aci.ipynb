{
 "cells": [
  {
   "cell_type": "markdown",
   "id": "872981be",
   "metadata": {},
   "source": [
    "# CAMEL Cookbook - Object Detection with ACI.dev MCP Tools"
   ]
  },
  {
   "cell_type": "markdown",
   "id": "844c98d9",
   "metadata": {},
   "source": [
    "**Description:** Learn how to build an object detection agent using CAMEL AI and ACI.dev's MCP protocol for seamless ML tasks. \n",
    "\n",
    "⭐ Star us on [GitHub](https://github.com/camel-ai/camel), join our [Discord](https://discord.gg/EXAMPLE), or follow us on [X](https://x.com/camelaiorg)\n",
    "\n",
    "This cookbook shows how to build a powerful object detection agent using CAMEL AI connected to ACI.dev's MCP tools. We'll create an agent that analyzes images, detects objects like cars or trees, and explains results in natural language—all without writing complex ML code.\n",
    "\n",
    "**Key Learnings:**\n",
    "- Why agents need tools to be truly useful.\n",
    "- How MCP enables dynamic, aware tool usage for tasks like object detection.\n",
    "- Setting up CAMEL with ACI.dev for real-time image analysis.\n",
    "- Building and running your own object detection agent.\n",
    "- Handling outputs with summaries, tables, and visualized results.\n",
    "\n",
    "This setup uses CAMEL's `MCPToolkit` to connect to ACI.dev's MCP servers, powering object detection via Replicate's ML models."
   ]
  },
  {
   "cell_type": "markdown",
   "id": "e8ad4834",
   "metadata": {},
   "source": [
    "### 📦 Installation"
   ]
  },
  {
   "cell_type": "code",
   "execution_count": null,
   "id": "3d4c4add",
   "metadata": {},
   "outputs": [],
   "source": [
    "%pip install camel-ai aci-mcp aci-sdk"
   ]
  },
  {
   "cell_type": "markdown",
   "id": "523e21e0",
   "metadata": {},
   "source": [
    "Set up keys:"
   ]
  },
  {
   "cell_type": "code",
   "execution_count": 1,
   "id": "3e484b89",
   "metadata": {},
   "outputs": [],
   "source": [
    "import os\n",
    "from dotenv import load_dotenv"
   ]
  },
  {
   "cell_type": "markdown",
   "id": "5cf512d1",
   "metadata": {},
   "source": [
    "### Define CAMEL agents"
   ]
  },
  {
   "cell_type": "code",
   "execution_count": 2,
   "id": "df8125d7",
   "metadata": {},
   "outputs": [],
   "source": [
    "agent_name = \"ObjectDetectionAgent\"\n",
    "system_prompt=\"\"\"\n",
    "You are a specialized Object Detection Agent. Your primary function is to use the `REPLICATE.run` tool for object detection and present the findings in a user-friendly format. \"\n",
    "\"The user will provide a text prompt containing an image URL and a query. You must extract the `image` URL and the `query` object(s). \"\n",
    "\"Immediately call the `REPLICATE.run` tool. The `input` must be a dictionary with two keys: `image` (the URL) and `query` (a string of the object(s)). \"\n",
    "\"Do not ask for clarification; make a reasonable inference if the query is ambiguous. \"\n",
    "\"After receiving the tool's output, format your response as follows: \"\n",
    "\"- **Natural Language Summary:** Start with a detailed friendly, insightful analysis of the detection results in plain English. \"\n",
    "\"- **Markdown Table:** Create a markdown table with columns: 'Object', 'Confidence Score', and 'Bounding Box Coordinates'. \"\n",
    "\"- **Result Image:** If the tool provides a URL for an image with bounding boxes, display it using markdown: `![Detected Objects](URL_HERE)`. \"\n",
    "\"Whenever I give you a link, trigger the tool call, extract its outputs and links, and present me in a proper markdown format with detailed analysis from the tool call in natural language.\n",
    "\"\"\""
   ]
  },
  {
   "cell_type": "markdown",
   "id": "8de159dc",
   "metadata": {},
   "source": [
    "### MCP servers configuration using ACI.dev"
   ]
  },
  {
   "cell_type": "code",
   "execution_count": 4,
   "id": "5b360b6a",
   "metadata": {},
   "outputs": [
    {
     "data": {
      "text/plain": [
       "<camel.toolkits.mcp_toolkit.MCPToolkit at 0x72f3228b3ad0>"
      ]
     },
     "execution_count": 4,
     "metadata": {},
     "output_type": "execute_result"
    }
   ],
   "source": [
    "from camel.toolkits import MCPToolkit\n",
    "mcp_config = {\n",
    "    \"mcpServers\": {\n",
    "        \"aci_apps\": {\n",
    "            \"command\": \"aci-mcp\",\n",
    "            \"args\": [\n",
    "                \"apps-server\",\n",
    "                \"--apps=REPLICATE\",\n",
    "                \"--linked-account-owner-id\",\n",
    "                \"parthshr370\"\n",
    "            ],\n",
    "            \"env\": {\"ACI_API_KEY\": os.getenv(\"ACI_API_KEY\")},\n",
    "        }\n",
    "    }\n",
    "}\n",
    "mcp_toolkit = MCPToolkit(config_dict=mcp_config)\n",
    "await mcp_toolkit.connect()\n"
   ]
  },
  {
   "cell_type": "markdown",
   "id": "91173716",
   "metadata": {},
   "source": [
    "from camel.agents import ChatAgent\n",
    "from camel.messages import BaseMessage\n",
    "from camel.models import ModelFactory\n",
    "from camel.types import ModelPlatformType\n",
    "\n",
    "model = ModelFactory.create(\n",
    "    model_platform=ModelPlatformType.GEMINI,\n",
    "    model_type=\"gemini-2.5-flash\",\n",
    "    api_key=os.getenv(\"GOOGLE_API_KEY\"),\n",
    "    model_config_dict={\"temperature\": 0.0, \"max_tokens\": 4096},\n",
    ")\n",
    "\n"
   ]
  },
  {
   "cell_type": "code",
   "execution_count": 5,
   "id": "834b52ff",
   "metadata": {},
   "outputs": [],
   "source": [
    "from camel.agents import ChatAgent\n",
    "from camel.messages import BaseMessage\n",
    "from camel.models import ModelFactory\n",
    "from camel.types import ModelPlatformType\n",
    "\n",
    "tools = mcp_toolkit.get_tools()\n",
    "\n",
    "# Initialize Gemini model\n",
    "model = ModelFactory.create(\n",
    "    model_platform=ModelPlatformType.GEMINI,\n",
    "    model_type=\"gemini-2.5-flash\",\n",
    "    api_key=os.getenv(\"GOOGLE_API_KEY\"),\n",
    "    model_config_dict={\"temperature\": 0.0, \"max_tokens\": 4096},\n",
    ")\n",
    "\n",
    "# Create system message\n",
    "sys_msg = BaseMessage.make_assistant_message(\n",
    "    role_name=agent_name,\n",
    "    content=system_prompt,\n",
    ")\n",
    "\n",
    "agent = ChatAgent(model=model, system_message=sys_msg, tools=tools, memory=None)"
   ]
  },
  {
   "cell_type": "code",
   "execution_count": 6,
   "id": "10b2e911",
   "metadata": {},
   "outputs": [
    {
     "name": "stdout",
     "output_type": "stream",
     "text": [
      "I've analyzed the image you provided and here's what I found:\n",
      "\n",
      "The image appears to feature a scenic landscape with several elements. The detection model identified multiple instances of 'person' and 'tree', suggesting a natural outdoor setting possibly with people present. It also confidently detected an 'animal', which could be a prominent feature in the scene. Furthermore, 'sky' and 'water' were identified, indicating an open environment with a body of water. A 'car' was also detected, which might be on a 'road' (though 'road' itself wasn't detected with high confidence, it's a reasonable inference given the presence of a car).\n",
      "\n",
      "Here are the detailed detection results:\n",
      "\n",
      "| Object | Confidence Score | Bounding Box Coordinates |\n",
      "|---|---|---|\n",
      "| animal | 0.517 | [1433, 384, 2550, 2140] |\n",
      "| sky | 0.368 | [5, 4, 3452, 665] |\n",
      "| water | 0.296 | [5, 1341, 3453, 1571] |\n",
      "| tree | 0.253 | [9, 411, 1508, 970] |\n",
      "| person | 0.269 | [1430, 381, 2559, 2136] |\n",
      "| car | 0.261 | [895, 849, 978, 928] |\n",
      "| person | 0.255 | [11, 378, 3445, 2136] |\n",
      "| person | 0.301 | [13, 24, 3445, 2129] |\n",
      "| tree | 0.295 | [7, 401, 3451, 966] |\n",
      "\n",
      "Here is the image with the detected objects highlighted by bounding boxes:\n",
      "\n",
      "![Detected Objects](https://replicate.delivery/xezq/Cb2yM0RE4MLWCt5p92dr0cGkZL9DULafuetsfeWN7PTRl2SUB/result.png)\n",
      "\n"
     ]
    }
   ],
   "source": [
    "response = await agent.astep(\"What do you see in this picture? URL: https://images.pexels.com/photos/1054655/pexels-photo-1054655.jpeg\")\n",
    "print(response.msg.content)"
   ]
  }
 ],
 "metadata": {
  "kernelspec": {
   "display_name": "Python 3",
   "language": "python",
   "name": "python3"
  },
  "language_info": {
   "codemirror_mode": {
    "name": "ipython",
    "version": 3
   },
   "file_extension": ".py",
   "mimetype": "text/x-python",
   "name": "python",
   "nbconvert_exporter": "python",
   "pygments_lexer": "ipython3",
   "version": "3.12.1"
  }
 },
 "nbformat": 4,
 "nbformat_minor": 5
}
